{
  "nbformat": 4,
  "nbformat_minor": 0,
  "metadata": {
    "colab": {
      "provenance": [],
      "authorship_tag": "ABX9TyPz2K7cqjQJXvz53ol/FtZZ",
      "include_colab_link": true
    },
    "kernelspec": {
      "name": "python3",
      "display_name": "Python 3"
    },
    "language_info": {
      "name": "python"
    }
  },
  "cells": [
    {
      "cell_type": "markdown",
      "metadata": {
        "id": "view-in-github",
        "colab_type": "text"
      },
      "source": [
        "<a href=\"https://colab.research.google.com/github/olal4/Recognition-of-architectural-elements-on-potograph-of-building-facades/blob/main/Przygotowanie_danych.ipynb\" target=\"_parent\"><img src=\"https://colab.research.google.com/assets/colab-badge.svg\" alt=\"Open In Colab\"/></a>"
      ]
    },
    {
      "cell_type": "code",
      "source": [
        "from google.colab import drive\n",
        "drive.mount('/content/drive')"
      ],
      "metadata": {
        "id": "1bpohW6iXSrQ"
      },
      "execution_count": null,
      "outputs": []
    },
    {
      "cell_type": "code",
      "execution_count": null,
      "metadata": {
        "id": "xy_Qgf4sXKsh"
      },
      "outputs": [],
      "source": [
        "!pip install xmltodict"
      ]
    },
    {
      "cell_type": "markdown",
      "source": [
        "Rozpakowanie i połączenie danych"
      ],
      "metadata": {
        "id": "YP8s4rZZ3xct"
      }
    },
    {
      "cell_type": "code",
      "source": [
        "import zipfile\n",
        "import os\n",
        "\n",
        "base_zip_path = '/content/drive/MyDrive/detectron2_project/CMP_facade_DB_base.zip'\n",
        "extended_zip_path = '/content/drive/MyDrive/detectron2_project/CMP_facade_DB_extended.zip'\n",
        "base_extract_path = '/content/drive/MyDrive/detectron2_project/CMP_facade_base/base'\n",
        "extended_extract_path = '/content/drive/MyDrive/detectron2_project/CMP_facade_extended/extended'\n",
        "\n",
        "\n",
        "def extract_zip(zip_path, extract_path):\n",
        "    with zipfile.ZipFile(zip_path, 'r') as zip_ref:\n",
        "        zip_ref.extractall(extract_path)\n",
        "\n",
        "extract_zip(base_zip_path, base_extract_path)\n",
        "extract_zip(extended_zip_path, extended_extract_path)"
      ],
      "metadata": {
        "id": "IafMn6eRXXlH"
      },
      "execution_count": null,
      "outputs": []
    },
    {
      "cell_type": "code",
      "source": [
        "import shutil\n",
        "import random\n",
        "\n",
        "combined_path = '/content/drive/MyDrive/ścieżka-do-folderu-na-dane'\n",
        "os.makedirs(combined_path, exist_ok=True)\n",
        "\n",
        "def merge_directories(src_path, dst_path):\n",
        "    for item in os.listdir(src_path):\n",
        "        s = os.path.join(src_path, item)\n",
        "        d = os.path.join(dst_path, item)\n",
        "        if os.path.isdir(s):\n",
        "            shutil.copytree(s, d, dirs_exist_ok=True)\n",
        "        else:\n",
        "            shutil.copy2(s, d)\n",
        "\n",
        "merge_directories(base_extract_path, combined_path)\n",
        "merge_directories(extended_extract_path, combined_path)"
      ],
      "metadata": {
        "id": "pb1jG_PFcHTK"
      },
      "execution_count": null,
      "outputs": []
    },
    {
      "cell_type": "markdown",
      "source": [
        "Podział danych na zestawy"
      ],
      "metadata": {
        "id": "u5TKkCbM2BdD"
      }
    },
    {
      "cell_type": "code",
      "source": [
        "all_files = [f for f in os.listdir(combined_path) if f.endswith('.jpg')]\n",
        "random.shuffle(all_files)\n",
        "\n",
        "train_ratio = 0.7\n",
        "val_ratio = 0.2\n",
        "test_ratio = 0.1\n",
        "\n",
        "train_files = all_files[:424]\n",
        "val_files = all_files[424:545]\n",
        "test_files = all_files[545:]\n",
        "\n",
        "def move_files(file_list, target_dir):\n",
        "    os.makedirs(target_dir, exist_ok=True)\n",
        "    for file in file_list:\n",
        "        shutil.move(os.path.join(combined_path, file), os.path.join(target_dir, file))\n",
        "\n",
        "        base_name = os.path.splitext(file)[0]\n",
        "        png_file = base_name + '.png'\n",
        "        xml_file = base_name + '.xml'\n",
        "        if os.path.exists(os.path.join(combined_path, png_file)):\n",
        "            shutil.move(os.path.join(combined_path, png_file), os.path.join(target_dir, png_file))\n",
        "        if os.path.exists(os.path.join(combined_path, xml_file)):\n",
        "            shutil.move(os.path.join(combined_path, xml_file), os.path.join(target_dir, xml_file))\n",
        "\n",
        "move_files(train_files, '/content/drive/MyDrive/ścieżka-do-folderu-docelowego-treningowego')\n",
        "move_files(val_files, '/content/drive/MyDrive/ścieżka-do-folderu-docelowego-walidacyjnego')\n",
        "move_files(test_files, '/content/drive/MyDrive/ścieżka-do-folderu-docelowego-testowego')"
      ],
      "metadata": {
        "id": "I2v9YPhZcKhD"
      },
      "execution_count": null,
      "outputs": []
    },
    {
      "cell_type": "code",
      "source": [
        "import os\n",
        "\n",
        "def fix_xml_file(file_path):\n",
        "    with open(file_path, 'r') as file:\n",
        "        lines = file.readlines()\n",
        "\n",
        "    fixed_lines = ['<?xml version=\"1.0\" encoding=\"UTF-8\"?>\\n<annotation>\\n']\n",
        "    for line in lines:\n",
        "        fixed_lines.append(line)\n",
        "    fixed_lines.append('</annotation>')\n",
        "\n",
        "    with open(file_path, 'w') as file:\n",
        "        file.writelines(fixed_lines)\n",
        "\n",
        "\n",
        "xml_directory = '/content/drive/MyDrive/ścieżka-do-folderu'\n",
        "\n",
        "# Przetwarzanie każdego pliku XML\n",
        "for filename in os.listdir(xml_directory):\n",
        "    if filename.endswith('.xml'):\n",
        "        file_path = os.path.join(xml_directory, filename)\n",
        "        fix_xml_file(file_path)\n"
      ],
      "metadata": {
        "id": "uJmmG5MncNkO"
      },
      "execution_count": null,
      "outputs": []
    },
    {
      "cell_type": "markdown",
      "source": [
        "Przekonwertowanie adnotacji z formatu xml na coco"
      ],
      "metadata": {
        "id": "6Zonl4ae36F3"
      }
    },
    {
      "cell_type": "code",
      "source": [
        "import json\n",
        "import xmltodict\n",
        "from PIL import Image\n",
        "import os\n",
        "\n",
        "def get_image_info(file_path, image_id):\n",
        "    with Image.open(file_path) as img:\n",
        "        width, height = img.size\n",
        "    return {\n",
        "        \"file_name\": os.path.basename(file_path),\n",
        "        \"height\": height,\n",
        "        \"width\": width,\n",
        "        \"id\": image_id\n",
        "    }\n",
        "\n",
        "def get_annotation_info(annotation, image_id, annotation_id, category_mapping, image_width, image_height):\n",
        "    x_min = int(float(annotation['points']['x'][0]) * image_width)\n",
        "    y_min = int(float(annotation['points']['y'][0]) * image_height)\n",
        "    x_max = int(float(annotation['points']['x'][1]) * image_width)\n",
        "    y_max = int(float(annotation['points']['y'][1]) * image_height)\n",
        "    width = x_max - x_min\n",
        "    height = y_max - y_min\n",
        "    category_id = category_mapping[annotation['labelname']]\n",
        "\n",
        "    return {\n",
        "        \"id\": annotation_id,\n",
        "        \"image_id\": image_id,\n",
        "        \"category_id\": category_id,\n",
        "        \"bbox\": [x_min, y_min, width, height],\n",
        "        \"area\": width * height,\n",
        "        \"iscrowd\": 0\n",
        "    }\n",
        "\n",
        "def voc_to_coco(voc_dir, output_json_path, category_mapping):\n",
        "    images = []\n",
        "    annotations = []\n",
        "    annotation_id = 1\n",
        "    image_id = 1\n",
        "\n",
        "    for xml_file in os.listdir(voc_dir):\n",
        "        if not xml_file.endswith('.xml'):\n",
        "            continue\n",
        "\n",
        "        try:\n",
        "            with open(os.path.join(voc_dir, xml_file)) as f:\n",
        "                doc = xmltodict.parse(f.read())\n",
        "\n",
        "\n",
        "            image_filename = os.path.splitext(xml_file)[0] + '.jpg'\n",
        "            image_file = os.path.join(voc_dir, image_filename)\n",
        "            image_info = get_image_info(image_file, image_id)\n",
        "            images.append(image_info)\n",
        "\n",
        "            if 'object' in doc['annotation']:\n",
        "                objects = doc['annotation']['object']\n",
        "                if isinstance(objects, dict):\n",
        "                    objects = [objects]\n",
        "                for obj in objects:\n",
        "                    annotation_info = get_annotation_info(obj, image_id, annotation_id, category_mapping, image_info['width'], image_info['height'])\n",
        "                    annotations.append(annotation_info)\n",
        "                    annotation_id += 1\n",
        "\n",
        "            image_id += 1\n",
        "\n",
        "        except Exception as e:\n",
        "            print(f\"Błąd podczas przetwarzania pliku {xml_file}: {e}\")\n",
        "\n",
        "    coco_format = {\n",
        "        \"images\": images,\n",
        "        \"annotations\": annotations,\n",
        "        \"categories\": [{\"id\": id, \"name\": name} for name, id in category_mapping.items()]\n",
        "    }\n",
        "\n",
        "    with open(output_json_path, 'w') as json_file:\n",
        "        json.dump(coco_format, json_file)\n",
        "\n",
        "category_mapping = {\n",
        "    \"facade\": 1,\n",
        "    \"window\": 2,\n",
        "    \"door\": 3,\n",
        "    \"shop\": 4,\n",
        "    \"balcony\": 5,\n",
        "    \"blind\": 6,\n",
        "    \"cornice\": 7,\n",
        "    \"deco\": 8,\n",
        "    \"molding\": 9,\n",
        "    \"pillar\": 10,\n",
        "    \"sill\": 11\n",
        "}\n",
        "\n",
        "voc_to_coco('ścieżka-do-danych-xml-treningowych', 'ścieżka-do-zapisania-danych-COCO-treningowy', category_mapping)\n",
        "voc_to_coco('ścieżka-do-danych-xml-walidacyjnych', 'ścieżka-do-zapisania-danych-COCO-walidacyjny', category_mapping)\n",
        "voc_to_coco('ścieżka-do-danych-xml-testowych', 'ścieżka-do-zapisania-danych-COCO-testowy', category_mapping)\n"
      ],
      "metadata": {
        "id": "5ofFB-OjcS8K"
      },
      "execution_count": null,
      "outputs": []
    },
    {
      "cell_type": "markdown",
      "source": [
        "Usuwanie niepotrzebnych plików png dot. segmentacji"
      ],
      "metadata": {
        "id": "dWzBzPbf3_ZH"
      }
    },
    {
      "cell_type": "code",
      "source": [
        "import os\n",
        "\n",
        "def delete_files(directory, extensions):\n",
        "    for filename in os.listdir(directory):\n",
        "        if filename.endswith(extensions):\n",
        "            os.remove(os.path.join(directory, filename))\n",
        "            print(f\"Deleted: {filename}\")\n",
        "\n",
        "directory = '/content/drive/MyDrive/ścieżka-do-folderu'\n",
        "extensions = ('.png', '.xml')\n",
        "\n",
        "delete_files(directory, extensions)\n"
      ],
      "metadata": {
        "id": "eIzbQRNZcWdp"
      },
      "execution_count": null,
      "outputs": []
    },
    {
      "cell_type": "code",
      "source": [
        "import os\n",
        "import shutil\n",
        "\n",
        "def copy_folder(source_dir, target_dir):\n",
        "    if not os.path.exists(target_dir):\n",
        "        os.makedirs(target_dir)\n",
        "\n",
        "    for item in os.listdir(source_dir):\n",
        "        source_path = os.path.join(source_dir, item)\n",
        "        target_path = os.path.join(target_dir, item)\n",
        "\n",
        "        if os.path.isdir(source_path):\n",
        "            shutil.copytree(source_path, target_path)\n",
        "        else:\n",
        "            shutil.copy2(source_path, target_path)\n",
        "\n",
        "        print(f\"Skopiowano: {source_path} do {target_path}\")\n",
        "\n",
        "source_dir = '/content/drive/MyDrive/ścieżka-do-folderu-źródłowego'\n",
        "target_dir = '/content/drive/MyDrive/ścieżka-do-folderu-docelowego'\n",
        "\n",
        "copy_folder(source_dir, target_dir)\n"
      ],
      "metadata": {
        "id": "fZNyEKEwcaU9"
      },
      "execution_count": null,
      "outputs": []
    },
    {
      "cell_type": "markdown",
      "source": [
        "Konwertowanie danych z coco na yolo"
      ],
      "metadata": {
        "id": "Ej9L-l6e4VCn"
      }
    },
    {
      "cell_type": "code",
      "source": [
        "import json\n",
        "import os\n",
        "from pycocotools.coco import COCO\n",
        "\n",
        "def convert_coco_to_yolo(coco_annotation_file, yolo_annotation_folder, image_folder, classes):\n",
        "    if not os.path.exists(yolo_annotation_folder):\n",
        "        os.makedirs(yolo_annotation_folder)\n",
        "\n",
        "    coco = COCO(coco_annotation_file)\n",
        "    class_ids = coco.getCatIds(catNms=classes)\n",
        "    img_ids = coco.getImgIds()\n",
        "\n",
        "    for img_id in img_ids:\n",
        "        img_info = coco.loadImgs(img_id)[0]\n",
        "        image_path = os.path.join(image_folder, img_info['file_name'])\n",
        "        if not os.path.exists(image_path):\n",
        "            print(f\"Uwaga: Obraz {image_path} nie istnieje.\")\n",
        "            continue\n",
        "        width = img_info['width']\n",
        "        height = img_info['height']\n",
        "\n",
        "        annotation_ids = coco.getAnnIds(imgIds=img_id)\n",
        "        annotations = coco.loadAnns(annotation_ids)\n",
        "\n",
        "        yolo_annotations = []\n",
        "        for ann in annotations:\n",
        "            class_name = coco.loadCats(ann['category_id'])[0]['name']\n",
        "            if class_name not in classes:\n",
        "                continue\n",
        "            class_id = classes.index(class_name)\n",
        "            bbox = ann['bbox']\n",
        "            x_center = (bbox[0] + bbox[2] / 2) / width\n",
        "            y_center = (bbox[1] + bbox[3] / 2) / height\n",
        "            w = bbox[2] / width\n",
        "            h = bbox[3] / height\n",
        "\n",
        "            yolo_annotations.append(f\"{class_id} {x_center} {y_center} {w} {h}\")\n",
        "\n",
        "        yolo_file_path = os.path.join(yolo_annotation_folder, os.path.splitext(img_info['file_name'])[0] + \".txt\")\n",
        "        with open(yolo_file_path, 'w') as yolo_file:\n",
        "            yolo_file.write(\"\\n\".join(yolo_annotations))\n",
        "\n",
        "base_path = \"/content/drive/MyDrive/ścieżka-do-folderu-z-danymi\"\n",
        "annotation_files = {\n",
        "    \"train\": f\"{base_path}/nazwa-pliku-z-adnotacjami\",\n",
        "    \"val\": f\"{base_path}/nazwa-pliku-z-adnotacjami\",\n",
        "    \"test\": f\"{base_path}/nazwa-pliku-z-adnotacjami\"\n",
        "}\n",
        "image_folders = {\n",
        "    \"train\": f\"{base_path}/nazwa-folderu-z-obrazami-treningowymi\",\n",
        "    \"val\": f\"{base_path}/nazwa-folderu-z-obrazami-walidacyjnymi\",\n",
        "    \"test\": f\"{base_path}/nazwa-folderu-z-obrazami-testowymi\"\n",
        "}\n",
        "yolo_annotation_folders = {\n",
        "    \"train\": f\"/content/drive/MyDrive/ścieżka-do-folderu-na-nowe-dane-treningowe\",\n",
        "    \"val\": f\"/content/drive/MyDrive/ścieżka-do-folderu-na-nowe-dane-walidacyjne\",\n",
        "    \"test\": f\"/content/drive/MyDrive/ścieżka-do-folderu-na-nowe-dane-testowe\"\n",
        "}\n",
        "\n",
        "# Lista klas\n",
        "classes = ['facade-elements', 'door', 'shop', 'window']\n",
        "\n",
        "for split in [\"train\", \"val\",\"test\"]:\n",
        "    convert_coco_to_yolo(annotation_files[split], yolo_annotation_folders[split], image_folders[split], classes)\n",
        "\n",
        "# Weryfikacja liczby plików\n",
        "def verify_annotation_files(image_folder, annotation_folder):\n",
        "    image_files = [f for f in os.listdir(image_folder) if f.endswith('.jpg') or f.endswith('.png')]\n",
        "    annotation_files = [f for f in os.listdir(annotation_folder) if f.endswith('.txt')]\n",
        "\n",
        "    print(f\"Liczba obrazów w folderze '{image_folder}': {len(image_files)}\")\n",
        "    print(f\"Liczba plików z adnotacjami w folderze '{annotation_folder}': {len(annotation_files)}\")\n",
        "\n",
        "    missing_annotations = set([os.path.splitext(f)[0] for f in image_files]) - set([os.path.splitext(f)[0] for f in annotation_files])\n",
        "    if missing_annotations:\n",
        "        print(f\"Brakujące pliki z adnotacjami dla obrazów: {missing_annotations}\")\n",
        "    else:\n",
        "        print(\"Wszystkie obrazy mają odpowiadające im pliki z adnotacjami.\")\n",
        "\n",
        "for split in [\"train\", \"val\",\"test\"]:\n",
        "    verify_annotation_files(image_folders[split], yolo_annotation_folders[split])"
      ],
      "metadata": {
        "id": "JPLRyGZR4UyO"
      },
      "execution_count": null,
      "outputs": []
    }
  ]
}