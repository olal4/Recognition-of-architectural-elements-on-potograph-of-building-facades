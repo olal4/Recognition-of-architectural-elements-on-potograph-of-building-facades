{
  "cells": [
    {
      "cell_type": "markdown",
      "metadata": {
        "id": "view-in-github",
        "colab_type": "text"
      },
      "source": [
        "<a href=\"https://colab.research.google.com/github/olal4/Recognition-of-architectural-elements-on-potograph-of-building-facades/blob/main/YOLOv5.ipynb\" target=\"_parent\"><img src=\"https://colab.research.google.com/assets/colab-badge.svg\" alt=\"Open In Colab\"/></a>"
      ]
    },
    {
      "cell_type": "code",
      "execution_count": null,
      "metadata": {
        "id": "NHUzxIYRAzEd"
      },
      "outputs": [],
      "source": [
        "!git clone https://github.com/ultralytics/yolov5\n",
        "%cd yolov5\n",
        "!pip install -r requirements.txt\n"
      ]
    },
    {
      "cell_type": "code",
      "execution_count": null,
      "metadata": {
        "id": "wBgx-aBYLpCF"
      },
      "outputs": [],
      "source": [
        "%cd yolov5"
      ]
    },
    {
      "cell_type": "code",
      "execution_count": null,
      "metadata": {
        "id": "fQbZ-fyPDi3y"
      },
      "outputs": [],
      "source": [
        "from google.colab import drive\n",
        "drive.mount('/content/drive')\n"
      ]
    },
    {
      "cell_type": "markdown",
      "metadata": {
        "id": "m6ljOsVrKLuh"
      },
      "source": [
        "TWORZENIE PLIKU dataset.yaml"
      ]
    },
    {
      "cell_type": "code",
      "execution_count": null,
      "metadata": {
        "id": "xyZi7kIbKK5a"
      },
      "outputs": [],
      "source": [
        "dataset_yaml_content = \"\"\"\n",
        "train: /content/drive/MyDrive/ścieżka-do-folderu-z-danymi-treningowymi\n",
        "val: /content/drive/MyDrive/ścieżka-do-folderu-z-danymi-walidacyjnymi\n",
        "\n",
        "\n",
        "nc: 4  # liczba klas\n",
        "names: ['facade-elements', 'door', 'shop', 'window']  # nazwy klas\n",
        "\"\"\"\n",
        "\n",
        "with open('/content/drive/MyDrive/ścieżka-do-pliku-dataset.yaml', 'w') as file:\n",
        "    file.write(dataset_yaml_content)\n"
      ]
    },
    {
      "cell_type": "code",
      "execution_count": null,
      "metadata": {
        "id": "4H2ltMIVNQKO"
      },
      "outputs": [],
      "source": [
        "%cd /content/yolov5"
      ]
    },
    {
      "cell_type": "markdown",
      "source": [
        "Uruchomienie treningu modelu YOLO"
      ],
      "metadata": {
        "id": "umoxqjx55KLO"
      }
    },
    {
      "cell_type": "code",
      "execution_count": null,
      "metadata": {
        "id": "bM7Ef5NqM3zG"
      },
      "outputs": [],
      "source": [
        "!python train.py --img 640 --batch 16 --epochs 50 --data /content/drive/MyDrive/ścieżka-do-pliku-dataset.yaml --weights yolov5s.pt\n"
      ]
    },
    {
      "cell_type": "markdown",
      "source": [
        "Uruchomienie drugiego etapu terningu"
      ],
      "metadata": {
        "id": "8D34HaM75NnX"
      }
    },
    {
      "cell_type": "code",
      "execution_count": null,
      "metadata": {
        "id": "Xn5a-40FaXAM"
      },
      "outputs": [],
      "source": [
        "!python train.py --img 640 --batch 16 --epochs 50 --data /content/drive/MyDrive/ścieżka-do-pliku-dataset.yaml --weights runs/train/exp/weights/best.pt --device 0\n"
      ]
    },
    {
      "cell_type": "markdown",
      "source": [
        "Testowanie modelu na konkretnym zdjęciu"
      ],
      "metadata": {
        "id": "wahQ5y0D5c18"
      }
    },
    {
      "cell_type": "code",
      "execution_count": null,
      "metadata": {
        "colab": {
          "background_save": true
        },
        "id": "08IaQF8HcoZy"
      },
      "outputs": [],
      "source": [
        "!python detect.py --weights /content/yolov5/runs/train/exp2/weights/best.pt --img 640 --conf 0.25 --source /content/drive/MyDrive/ścieżka-do-obrazu-testowego\n",
        "\n",
        "from IPython.display import Image, display\n",
        "\n",
        "display(Image(filename='/content/yolov5/runs/detect/exp3/nazwa-obrazu-testowego'))\n"
      ]
    }
  ],
  "metadata": {
    "accelerator": "GPU",
    "colab": {
      "gpuType": "T4",
      "provenance": [],
      "include_colab_link": true
    },
    "kernelspec": {
      "display_name": "Python 3",
      "name": "python3"
    },
    "language_info": {
      "name": "python"
    }
  },
  "nbformat": 4,
  "nbformat_minor": 0
}