{
  "cells": [
    {
      "cell_type": "markdown",
      "metadata": {
        "id": "view-in-github",
        "colab_type": "text"
      },
      "source": [
        "<a href=\"https://colab.research.google.com/github/olal4/Recognition-of-architectural-elements-on-potograph-of-building-facades/blob/main/Faster_R_CNN.ipynb\" target=\"_parent\"><img src=\"https://colab.research.google.com/assets/colab-badge.svg\" alt=\"Open In Colab\"/></a>"
      ]
    },
    {
      "cell_type": "markdown",
      "source": [
        "Pobieranie i instalowanie potrzebnych bibliotek"
      ],
      "metadata": {
        "id": "lJgK5obib5my"
      }
    },
    {
      "cell_type": "code",
      "execution_count": null,
      "metadata": {
        "id": "m1tBSHI6EIrk"
      },
      "outputs": [],
      "source": [
        "!pip install torch torchvision torchaudio\n",
        "\n"
      ]
    },
    {
      "cell_type": "code",
      "execution_count": null,
      "metadata": {
        "id": "eIfqHZr2Gyjj"
      },
      "outputs": [],
      "source": [
        "!pip install 'git+https://github.com/facebookresearch/detectron2.git'\n"
      ]
    },
    {
      "cell_type": "markdown",
      "source": [
        "Połączenie z dyskiem google"
      ],
      "metadata": {
        "id": "B7VTk_LAbzaA"
      }
    },
    {
      "cell_type": "code",
      "execution_count": null,
      "metadata": {
        "id": "neTzp4ZpOyDO",
        "colab": {
          "base_uri": "https://localhost:8080/"
        },
        "outputId": "622b3d28-b5a1-4857-ecf1-938f9d4cdf90"
      },
      "outputs": [
        {
          "output_type": "stream",
          "name": "stdout",
          "text": [
            "Mounted at /content/drive\n"
          ]
        }
      ],
      "source": [
        "from google.colab import drive\n",
        "drive.mount('/content/drive')\n"
      ]
    },
    {
      "cell_type": "code",
      "execution_count": null,
      "metadata": {
        "colab": {
          "base_uri": "https://localhost:8080/"
        },
        "id": "vaWAeqIp_QV3",
        "outputId": "10e93a02-30fb-462c-d9b4-b41f0be16e89"
      },
      "outputs": [
        {
          "output_type": "stream",
          "name": "stdout",
          "text": [
            "2.3.1+cu121 True\n"
          ]
        }
      ],
      "source": [
        "import torch, torchvision\n",
        "import numpy as np\n",
        "import torch.nn as nn\n",
        "print(torch.__version__, torch.cuda.is_available())\n",
        "import detectron2\n",
        "from detectron2.utils.logger import setup_logger\n",
        "setup_logger()\n",
        "\n",
        "# Importy z Detectron2\n",
        "from detectron2 import model_zoo\n",
        "from detectron2.engine import DefaultTrainer\n",
        "from detectron2.config import get_cfg\n",
        "from detectron2.utils.visualizer import Visualizer\n",
        "from detectron2.data.datasets import register_coco_instances\n",
        "from detectron2.data import MetadataCatalog, DatasetCatalog\n",
        "from detectron2.modeling import build_model\n"
      ]
    },
    {
      "cell_type": "markdown",
      "source": [
        "Rejestracja danych"
      ],
      "metadata": {
        "id": "-eJAmnGZYry2"
      }
    },
    {
      "cell_type": "code",
      "execution_count": null,
      "metadata": {
        "id": "2-ixFP2k_bCM"
      },
      "outputs": [],
      "source": [
        "import os\n",
        "\n",
        "data_directory = '/content/drive/MyDrive/folder_ze_zbiorem_danych'\n",
        "train_json = os.path.join(data_directory, \"nazwa-plik-z-adnotacjami-treningowymi.json\")\n",
        "train_images = os.path.join(data_directory, \"folder-z-obrazami-treningowymi\")\n",
        "val_json = os.path.join(data_directory, \"nazwa-plik-z-adnotacjami-walidacyjnymi.json\")\n",
        "val_images = os.path.join(data_directory, \"folder-z-obrazami-walidacyjnymi\")\n",
        "test_json = os.path.join(data_directory, \"nazwa-plik-z-adnotacjami-testowymi.json\")\n",
        "test_images = os.path.join(data_directory, \"folder-z-obrazami-testowymi\")\n",
        "\n",
        "if \"my_dataset_train\" in DatasetCatalog:\n",
        "    DatasetCatalog.remove(\"my_dataset_train\")\n",
        "    MetadataCatalog.remove(\"my_dataset_train\")\n",
        "if \"my_dataset_val\" in DatasetCatalog:\n",
        "    DatasetCatalog.remove(\"my_dataset_val\")\n",
        "    MetadataCatalog.remove(\"my_dataset_val\")\n",
        "if \"my_dataset_test\" in DatasetCatalog:\n",
        "    DatasetCatalog.remove(\"my_dataset_test\")\n",
        "    MetadataCatalog.remove(\"my_dataset_test\")\n",
        "\n",
        "register_coco_instances(\"my_dataset_train\", {}, train_json, train_images)\n",
        "register_coco_instances(\"my_dataset_val\", {}, val_json, val_images)\n",
        "register_coco_instances(\"my_dataset_test\", {}, test_json, test_images)"
      ]
    },
    {
      "cell_type": "markdown",
      "source": [
        "Konfiguracja modelu"
      ],
      "metadata": {
        "id": "QQSX17AVYvVi"
      }
    },
    {
      "cell_type": "code",
      "execution_count": null,
      "metadata": {
        "id": "4cyTfM-1_3VN"
      },
      "outputs": [],
      "source": [
        "cfg = get_cfg()\n",
        "cfg.merge_from_file(model_zoo.get_config_file(\"COCO-Detection/faster_rcnn_R_50_FPN_3x.yaml\"))\n",
        "cfg.DATASETS.TRAIN = (\"my_dataset_train\",)\n",
        "cfg.DATASETS.TEST = (\"my_dataset_val\",)\n",
        "cfg.DATALOADER.NUM_WORKERS = 2\n",
        "cfg.MODEL.WEIGHTS = model_zoo.get_checkpoint_url(\"COCO-Detection/faster_rcnn_R_50_FPN_3x.yaml\")\n",
        "cfg.SOLVER.IMS_PER_BATCH = 2\n",
        "cfg.SOLVER.BASE_LR = 0.00025\n",
        "cfg.SOLVER.MAX_ITER = 1000\n",
        "cfg.MODEL.ROI_HEADS.BATCH_SIZE_PER_IMAGE = 128\n",
        "cfg.MODEL.ROI_HEADS.NUM_CLASSES = 4  # liczba klas w zbiorze"
      ]
    },
    {
      "cell_type": "markdown",
      "source": [
        "Uruchomienie treningu"
      ],
      "metadata": {
        "id": "B8Vts78dY2oO"
      }
    },
    {
      "cell_type": "code",
      "execution_count": null,
      "metadata": {
        "id": "G6rbbdIA__1_"
      },
      "outputs": [],
      "source": [
        "trainer = DefaultTrainer(cfg)\n",
        "trainer.resume_or_load(resume=False)\n",
        "trainer.train()\n"
      ]
    },
    {
      "cell_type": "markdown",
      "source": [
        "Ewaluacja modelu"
      ],
      "metadata": {
        "id": "lpmHgQ1dY8kv"
      }
    },
    {
      "cell_type": "code",
      "execution_count": null,
      "metadata": {
        "id": "V85dn1RNCQp8"
      },
      "outputs": [],
      "source": [
        "from detectron2.evaluation import COCOEvaluator, inference_on_dataset\n",
        "from detectron2.data import build_detection_test_loader\n",
        "\n",
        "evaluator = COCOEvaluator(\"my_dataset_val\", cfg, False, output_dir=\"./output/\")\n",
        "val_loader = build_detection_test_loader(cfg, \"my_dataset_val\")\n",
        "results = inference_on_dataset(trainer.model, val_loader, evaluator)\n",
        "print(results)"
      ]
    },
    {
      "cell_type": "markdown",
      "source": [
        "Zapisanie modelu"
      ],
      "metadata": {
        "id": "b2d1nYUCZAVg"
      }
    },
    {
      "cell_type": "code",
      "execution_count": null,
      "metadata": {
        "id": "baU-xGumbvFq"
      },
      "outputs": [],
      "source": [
        "import os\n",
        "os.makedirs(cfg.OUTPUT_DIR, exist_ok=True)\n",
        "trainer.checkpointer.save(\"model_final\")\n"
      ]
    },
    {
      "cell_type": "markdown",
      "source": [
        "Testowanie na nowych obrazach"
      ],
      "metadata": {
        "id": "TevEMiqlZIhi"
      }
    },
    {
      "cell_type": "code",
      "execution_count": null,
      "metadata": {
        "id": "0gKGl0OMCv-V"
      },
      "outputs": [],
      "source": [
        "from detectron2.engine.defaults import DefaultPredictor\n",
        "\n",
        "cfg.MODEL.WEIGHTS = os.path.join(cfg.OUTPUT_DIR, \"model_final.pth\")\n",
        "cfg.MODEL.ROI_HEADS.SCORE_THRESH_TEST = 0.5\n",
        "predictor = DefaultPredictor(cfg)\n",
        "\n",
        "from detectron2.utils.visualizer import ColorMode\n",
        "import cv2\n",
        "from google.colab.patches import cv2_imshow\n",
        "\n",
        "# Ścieżka do nowego obrazu\n",
        "im = cv2.imread(\"/content/drive/MyDrive/ścieżka-do-obrazu-testowego\")\n",
        "outputs = predictor(im)\n",
        "\n",
        "v = Visualizer(im[:, :, ::-1],\n",
        "               metadata=MetadataCatalog.get(cfg.DATASETS.TRAIN[0]),\n",
        "               scale=0.8,\n",
        "               instance_mode=ColorMode.IMAGE_BW\n",
        ")\n",
        "v = v.draw_instance_predictions(outputs[\"instances\"].to(\"cpu\"))\n",
        "cv2_imshow(v.get_image()[:, :, ::-1])"
      ]
    },
    {
      "cell_type": "markdown",
      "metadata": {
        "id": "m1xiPC_hGO8v"
      },
      "source": [
        "alternatywna wersja testowania"
      ]
    },
    {
      "cell_type": "code",
      "execution_count": null,
      "metadata": {
        "id": "MR5QtaXVFo8N"
      },
      "outputs": [],
      "source": [
        "from detectron2.engine.defaults import DefaultPredictor\n",
        "\n",
        "\n",
        "cfg.MODEL.DEVICE = \"cpu\"\n",
        "cfg.MODEL.WEIGHTS = os.path.join(cfg.OUTPUT_DIR, \"model_final.pth\")\n",
        "cfg.MODEL.ROI_HEADS.SCORE_THRESH_TEST = 0.5\n",
        "\n",
        "predictor = DefaultPredictor(cfg)"
      ]
    },
    {
      "cell_type": "code",
      "execution_count": null,
      "metadata": {
        "id": "r7Su9H8XGS9D"
      },
      "outputs": [],
      "source": [
        "from detectron2.evaluation import COCOEvaluator, inference_on_dataset\n",
        "from detectron2.data import build_detection_test_loader\n",
        "\n",
        "cfg.DATASETS.TEST = (\"my_dataset_test\",)\n",
        "test_evaluator = COCOEvaluator(\"my_dataset_test\", cfg, False, output_dir=\"./output/\")\n",
        "test_loader = build_detection_test_loader(cfg, \"my_dataset_test\")\n",
        "test_results = inference_on_dataset(predictor.model, test_loader, test_evaluator)\n",
        "\n",
        "print(test_results)"
      ]
    },
    {
      "cell_type": "markdown",
      "source": [
        "Zapisanie modelu na dysku Google i pobranie na dysk lokalny"
      ],
      "metadata": {
        "id": "Z5C0loc9Zbje"
      }
    },
    {
      "cell_type": "code",
      "execution_count": null,
      "metadata": {
        "id": "cWp5l6bweUlT"
      },
      "outputs": [],
      "source": [
        "import shutil\n",
        "import torch\n",
        "from google.colab import files\n",
        "\n",
        "output_dir = cfg.OUTPUT_DIR\n",
        "model_path = os.path.join(output_dir, \"model_final.pth\")\n",
        "\n",
        "drive_model_path = '/content/drive/MyDrive/ścieżka-do-zapisania-modelu'\n",
        "\n",
        "shutil.copy(model_path, drive_model_path)\n",
        "print(f\"Model został zapisany w: {drive_model_path}\")\n",
        "\n",
        "torch.save(trainer.model.state_dict(), drive_model_path)\n",
        "\n",
        "files.download(model_path)"
      ]
    },
    {
      "cell_type": "markdown",
      "source": [
        "# **II** **ETAP**"
      ],
      "metadata": {
        "id": "MPopD8HKdsDz"
      }
    },
    {
      "cell_type": "markdown",
      "source": [
        "Rejestracja drugiego zbioru danych"
      ],
      "metadata": {
        "id": "xuRU5_mKa59t"
      }
    },
    {
      "cell_type": "code",
      "source": [
        "masked_train_json = '/content/drive/MyDrive/ścieżka-do-pliku-z-adnotacjami-danych-treningowych'\n",
        "masked_train_images = '/content/drive/MyDrive/ścieżka-do-folderu-ze-obrazami-treningowymi'\n",
        "masked_val_json = '/content/drive/MyDrive/ścieżka-do-pliku-z-adnotacjami-danych-walidacyjnych'\n",
        "masked_val_images = '/content/drive/MyDrive/ścieżka-do-folderu-ze-obrazami-walidacyjnymi'\n",
        "masked_test_json = '/content/drive/MyDrive/ścieżka-do-pliku-z-adnotacjami-danych-testowych'\n",
        "masked_test_images = '/content/drive/MyDrive/ścieżka-do-folderu-ze-obrazami-testowymi'\n",
        "\n",
        "if \"masked_dataset_train\" in DatasetCatalog:\n",
        "    DatasetCatalog.remove(\"masked_dataset_train\")\n",
        "    MetadataCatalog.remove(\"masked_dataset_train\")\n",
        "if \"masked_dataset_val\" in DatasetCatalog:\n",
        "    DatasetCatalog.remove(\"masked_dataset_val\")\n",
        "    MetadataCatalog.remove(\"masked_dataset_val\")\n",
        "if \"my_dataset_test\" in DatasetCatalog:\n",
        "    DatasetCatalog.remove(\"my_dataset_test\")\n",
        "    MetadataCatalog.remove(\"my_dataset_test\")\n",
        "\n",
        "register_coco_instances(\"masked_dataset_train\", {}, masked_train_json, masked_train_images)\n",
        "register_coco_instances(\"masked_dataset_val\", {}, masked_val_json, masked_val_images)\n",
        "register_coco_instances(\"masked_dataset_test\", {}, masked_test_json, masked_test_images)"
      ],
      "metadata": {
        "id": "QEHifTP4drv5"
      },
      "execution_count": null,
      "outputs": []
    },
    {
      "cell_type": "markdown",
      "source": [
        "Aktualizacja konfiguracji modelu dla drugiego etapu, podanie ścieżki do modelu zapisanego po pierwszym etapie"
      ],
      "metadata": {
        "id": "xeXy2G1sae_R"
      }
    },
    {
      "cell_type": "code",
      "source": [
        "cfg.DATASETS.TRAIN = (\"masked_dataset_train\",)\n",
        "cfg.DATASETS.TEST = (\"masked_dataset_val\",)\n",
        "cfg.SOLVER.MAX_ITER = 1000\n",
        "cfg.MODEL.WEIGHTS = os.path.join(cfg.OUTPUT_DIR, \"model_final.pth\")"
      ],
      "metadata": {
        "id": "0Ev2BrQMdyOp"
      },
      "execution_count": null,
      "outputs": []
    },
    {
      "cell_type": "markdown",
      "source": [
        "Trening modelu na kolejnym zbiorze danych"
      ],
      "metadata": {
        "id": "U8CssUEgaZOA"
      }
    },
    {
      "cell_type": "code",
      "source": [
        "trainer = DefaultTrainer(cfg)\n",
        "trainer.resume_or_load(resume=False)\n",
        "trainer.train()"
      ],
      "metadata": {
        "id": "w5TYLbnNd00R"
      },
      "execution_count": null,
      "outputs": []
    },
    {
      "cell_type": "markdown",
      "source": [
        "Ewaluacja modelu po II etapie"
      ],
      "metadata": {
        "id": "oVWWprzZaUzP"
      }
    },
    {
      "cell_type": "code",
      "source": [
        "evaluator = COCOEvaluator(\"masked_dataset_val\", cfg, False, output_dir=\"./output/\")\n",
        "val_loader = build_detection_test_loader(cfg, \"masked_dataset_val\")\n",
        "print(inference_on_dataset(trainer.model, val_loader, evaluator))"
      ],
      "metadata": {
        "id": "1mLMqPN9d2fC"
      },
      "execution_count": null,
      "outputs": []
    }
  ],
  "metadata": {
    "accelerator": "GPU",
    "colab": {
      "gpuType": "T4",
      "provenance": [],
      "include_colab_link": true
    },
    "kernelspec": {
      "display_name": "Python 3",
      "name": "python3"
    },
    "language_info": {
      "name": "python"
    }
  },
  "nbformat": 4,
  "nbformat_minor": 0
}